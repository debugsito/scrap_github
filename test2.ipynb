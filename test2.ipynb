{
 "cells": [
  {
   "cell_type": "code",
   "id": "initial_id",
   "metadata": {
    "collapsed": true,
    "ExecuteTime": {
     "end_time": "2025-08-24T04:59:35.447395Z",
     "start_time": "2025-08-24T04:59:35.160427Z"
    }
   },
   "source": [
    "import requests\n",
    "import pandas as pd"
   ],
   "outputs": [],
   "execution_count": 5
  },
  {
   "metadata": {
    "ExecuteTime": {
     "end_time": "2025-08-24T04:59:35.459250Z",
     "start_time": "2025-08-24T04:59:35.456108Z"
    }
   },
   "cell_type": "code",
   "source": [
    "import os\n",
    "from dotenv import load_dotenv\n",
    "\n",
    "# Cargar variables del archivo .env\n",
    "load_dotenv()\n",
    "\n",
    "GITHUB_TOKEN = os.getenv(\"GITHUB_TOKEN\")\n",
    "\n",
    "HEADERS = {\"Authorization\": f\"token {GITHUB_TOKEN}\"}"
   ],
   "id": "9784b1a8ae50b9fd",
   "outputs": [],
   "execution_count": 6
  },
  {
   "metadata": {
    "ExecuteTime": {
     "end_time": "2025-08-24T04:59:35.473454Z",
     "start_time": "2025-08-24T04:59:35.470637Z"
    }
   },
   "cell_type": "code",
   "source": [
    "def buscar_repos(query, max_results=10):\n",
    "    url = \"https://api.github.com/search/code\"\n",
    "    params = {\"q\": query, \"per_page\": max_results}\n",
    "    response = requests.get(url, headers=HEADERS, params=params)\n",
    "\n",
    "    if response.status_code == 200:\n",
    "        return response.json()[\"items\"]\n",
    "    else:\n",
    "        print(\"Error:\", response.status_code, response.text)\n",
    "        return []"
   ],
   "id": "d78e78faaae268f1",
   "outputs": [],
   "execution_count": 7
  },
  {
   "metadata": {
    "ExecuteTime": {
     "end_time": "2025-08-24T04:59:35.995463Z",
     "start_time": "2025-08-24T04:59:35.482014Z"
    }
   },
   "cell_type": "code",
   "source": "resultados = buscar_repos(\".env\", max_results=5)\n",
   "id": "3a5e2dec150318eb",
   "outputs": [],
   "execution_count": 8
  },
  {
   "metadata": {
    "ExecuteTime": {
     "end_time": "2025-08-24T04:59:36.011537Z",
     "start_time": "2025-08-24T04:59:36.004409Z"
    }
   },
   "cell_type": "code",
   "source": [
    "# Convertir a DataFrame\n",
    "data = [\n",
    "    {\n",
    "        \"repo\": item[\"repository\"][\"full_name\"],\n",
    "        \"file_path\": item[\"path\"],\n",
    "        \"html_url\": item[\"html_url\"]\n",
    "    }\n",
    "    for item in resultados\n",
    "]\n",
    "\n",
    "df = pd.DataFrame(data)\n",
    "print(df)"
   ],
   "id": "8f0c38e0d3884b19",
   "outputs": [
    {
     "name": "stdout",
     "output_type": "stream",
     "text": [
      "                        repo   file_path  \\\n",
      "0   datastack-net/dockerized      DEV.md   \n",
      "1  oubingbing/wechatAlliance       bt.md   \n",
      "2     gitcoinco/grants-stack  docs/KB.md   \n",
      "3       ahmadrosid/pdfpintar   README.md   \n",
      "4     IceBearAI/LLM-And-More      env.md   \n",
      "\n",
      "                                            html_url  \n",
      "0  https://github.com/datastack-net/dockerized/bl...  \n",
      "1  https://github.com/oubingbing/wechatAlliance/b...  \n",
      "2  https://github.com/gitcoinco/grants-stack/blob...  \n",
      "3  https://github.com/ahmadrosid/pdfpintar/blob/0...  \n",
      "4  https://github.com/IceBearAI/LLM-And-More/blob...  \n"
     ]
    }
   ],
   "execution_count": 9
  },
  {
   "metadata": {
    "ExecuteTime": {
     "end_time": "2025-08-24T04:59:36.024226Z",
     "start_time": "2025-08-24T04:59:36.018885Z"
    }
   },
   "cell_type": "code",
   "source": [
    "# Guardar en CSV\n",
    "df.to_csv(\"repos_env.csv\", index=False)"
   ],
   "id": "f9937a20454288d5",
   "outputs": [],
   "execution_count": 10
  },
  {
   "metadata": {
    "ExecuteTime": {
     "end_time": "2025-08-24T04:59:36.190598Z",
     "start_time": "2025-08-24T04:59:36.039245Z"
    }
   },
   "cell_type": "code",
   "source": [
    "from sqlalchemy import create_engine\n",
    "\n",
    "engine = create_engine(\"sqlite:///github_data.db\")\n",
    "df.to_sql(\"repos\", engine, if_exists=\"append\", index=False)"
   ],
   "id": "88b8166bf678e2ed",
   "outputs": [
    {
     "data": {
      "text/plain": [
       "5"
      ]
     },
     "execution_count": 11,
     "metadata": {},
     "output_type": "execute_result"
    }
   ],
   "execution_count": 11
  },
  {
   "metadata": {
    "ExecuteTime": {
     "end_time": "2025-08-24T04:59:36.205172Z",
     "start_time": "2025-08-24T04:59:36.202779Z"
    }
   },
   "cell_type": "code",
   "source": "",
   "id": "e3c029e8566c5ba7",
   "outputs": [],
   "execution_count": null
  }
 ],
 "metadata": {
  "kernelspec": {
   "display_name": "Python 3",
   "language": "python",
   "name": "python3"
  },
  "language_info": {
   "codemirror_mode": {
    "name": "ipython",
    "version": 2
   },
   "file_extension": ".py",
   "mimetype": "text/x-python",
   "name": "python",
   "nbconvert_exporter": "python",
   "pygments_lexer": "ipython2",
   "version": "2.7.6"
  }
 },
 "nbformat": 4,
 "nbformat_minor": 5
}
